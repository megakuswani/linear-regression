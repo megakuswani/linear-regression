{
 "cells": [
  {
   "cell_type": "code",
   "execution_count": 1,
   "id": "797468a4",
   "metadata": {
    "_cell_guid": "b1076dfc-b9ad-4769-8c92-a6c4dae69d19",
    "_uuid": "8f2839f25d086af736a60e9eeb907d3b93b6e0e5",
    "execution": {
     "iopub.execute_input": "2022-07-09T11:04:15.004688Z",
     "iopub.status.busy": "2022-07-09T11:04:15.004250Z",
     "iopub.status.idle": "2022-07-09T11:04:15.021692Z",
     "shell.execute_reply": "2022-07-09T11:04:15.020496Z"
    },
    "papermill": {
     "duration": 0.028726,
     "end_time": "2022-07-09T11:04:15.024518",
     "exception": false,
     "start_time": "2022-07-09T11:04:14.995792",
     "status": "completed"
    },
    "tags": []
   },
   "outputs": [
    {
     "name": "stdout",
     "output_type": "stream",
     "text": [
      "/kaggle/input/databank/MYBNK.csv\n",
      "/kaggle/input/databank/BCA.csv\n"
     ]
    }
   ],
   "source": [
    "# This Python 3 environment comes with many helpful analytics libraries installed\n",
    "# It is defined by the kaggle/python Docker image: https://github.com/kaggle/docker-python\n",
    "# For example, here's several helpful packages to load\n",
    "\n",
    "import numpy as np # linear algebra\n",
    "import pandas as pd # data processing, CSV file I/O (e.g. pd.read_csv)\n",
    "\n",
    "# Input data files are available in the read-only \"../input/\" directory\n",
    "# For example, running this (by clicking run or pressing Shift+Enter) will list all files under the input directory\n",
    "\n",
    "import os\n",
    "for dirname, _, filenames in os.walk('/kaggle/input'):\n",
    "    for filename in filenames:\n",
    "        print(os.path.join(dirname, filename))\n",
    "\n",
    "# You can write up to 20GB to the current directory (/kaggle/working/) that gets preserved as output when you create a version using \"Save & Run All\" \n",
    "# You can also write temporary files to /kaggle/temp/, but they won't be saved outside of the current session"
   ]
  },
  {
   "cell_type": "code",
   "execution_count": 2,
   "id": "0242ff2a",
   "metadata": {
    "execution": {
     "iopub.execute_input": "2022-07-09T11:04:15.038366Z",
     "iopub.status.busy": "2022-07-09T11:04:15.037666Z",
     "iopub.status.idle": "2022-07-09T11:04:16.261787Z",
     "shell.execute_reply": "2022-07-09T11:04:16.260556Z"
    },
    "papermill": {
     "duration": 1.233963,
     "end_time": "2022-07-09T11:04:16.264375",
     "exception": false,
     "start_time": "2022-07-09T11:04:15.030412",
     "status": "completed"
    },
    "tags": []
   },
   "outputs": [],
   "source": [
    "import numpy as np\n",
    "import pandas as pd\n",
    "import seaborn as sns"
   ]
  },
  {
   "cell_type": "markdown",
   "id": "31951fc2",
   "metadata": {
    "papermill": {
     "duration": 0.005314,
     "end_time": "2022-07-09T11:04:16.275554",
     "exception": false,
     "start_time": "2022-07-09T11:04:16.270240",
     "status": "completed"
    },
    "tags": []
   },
   "source": [
    "# BCA DATA LOAD"
   ]
  },
  {
   "cell_type": "code",
   "execution_count": 3,
   "id": "62850361",
   "metadata": {
    "execution": {
     "iopub.execute_input": "2022-07-09T11:04:16.288502Z",
     "iopub.status.busy": "2022-07-09T11:04:16.288115Z",
     "iopub.status.idle": "2022-07-09T11:04:16.324097Z",
     "shell.execute_reply": "2022-07-09T11:04:16.323272Z"
    },
    "papermill": {
     "duration": 0.04529,
     "end_time": "2022-07-09T11:04:16.326532",
     "exception": false,
     "start_time": "2022-07-09T11:04:16.281242",
     "status": "completed"
    },
    "tags": []
   },
   "outputs": [
    {
     "name": "stdout",
     "output_type": "stream",
     "text": [
      "<class 'pandas.core.frame.DataFrame'>\n",
      "RangeIndex: 13 entries, 0 to 12\n",
      "Data columns (total 7 columns):\n",
      " #   Column     Non-Null Count  Dtype  \n",
      "---  ------     --------------  -----  \n",
      " 0   Date       13 non-null     object \n",
      " 1   Open       13 non-null     float64\n",
      " 2   High       13 non-null     float64\n",
      " 3   Low        13 non-null     float64\n",
      " 4   Close      13 non-null     float64\n",
      " 5   Adj Close  13 non-null     float64\n",
      " 6   Volume     13 non-null     int64  \n",
      "dtypes: float64(5), int64(1), object(1)\n",
      "memory usage: 856.0+ bytes\n"
     ]
    }
   ],
   "source": [
    "BCA = pd.read_csv('../input/databank/BCA.csv')\n",
    "BCA.info()"
   ]
  },
  {
   "cell_type": "code",
   "execution_count": 4,
   "id": "f7ec41d8",
   "metadata": {
    "execution": {
     "iopub.execute_input": "2022-07-09T11:04:16.340188Z",
     "iopub.status.busy": "2022-07-09T11:04:16.338985Z",
     "iopub.status.idle": "2022-07-09T11:04:16.362493Z",
     "shell.execute_reply": "2022-07-09T11:04:16.361329Z"
    },
    "papermill": {
     "duration": 0.032688,
     "end_time": "2022-07-09T11:04:16.364820",
     "exception": false,
     "start_time": "2022-07-09T11:04:16.332132",
     "status": "completed"
    },
    "tags": []
   },
   "outputs": [
    {
     "data": {
      "text/html": [
       "<div>\n",
       "<style scoped>\n",
       "    .dataframe tbody tr th:only-of-type {\n",
       "        vertical-align: middle;\n",
       "    }\n",
       "\n",
       "    .dataframe tbody tr th {\n",
       "        vertical-align: top;\n",
       "    }\n",
       "\n",
       "    .dataframe thead th {\n",
       "        text-align: right;\n",
       "    }\n",
       "</style>\n",
       "<table border=\"1\" class=\"dataframe\">\n",
       "  <thead>\n",
       "    <tr style=\"text-align: right;\">\n",
       "      <th></th>\n",
       "      <th>Date</th>\n",
       "      <th>Open</th>\n",
       "      <th>High</th>\n",
       "      <th>Low</th>\n",
       "      <th>Close</th>\n",
       "      <th>Adj Close</th>\n",
       "      <th>Volume</th>\n",
       "    </tr>\n",
       "  </thead>\n",
       "  <tbody>\n",
       "    <tr>\n",
       "      <th>0</th>\n",
       "      <td>2021-07-01</td>\n",
       "      <td>0.324</td>\n",
       "      <td>0.380</td>\n",
       "      <td>0.322</td>\n",
       "      <td>0.326</td>\n",
       "      <td>7572.880859</td>\n",
       "      <td>18700</td>\n",
       "    </tr>\n",
       "    <tr>\n",
       "      <th>1</th>\n",
       "      <td>2021-08-01</td>\n",
       "      <td>0.322</td>\n",
       "      <td>0.388</td>\n",
       "      <td>0.322</td>\n",
       "      <td>0.362</td>\n",
       "      <td>8409.149414</td>\n",
       "      <td>0</td>\n",
       "    </tr>\n",
       "    <tr>\n",
       "      <th>2</th>\n",
       "      <td>2021-09-01</td>\n",
       "      <td>0.364</td>\n",
       "      <td>0.376</td>\n",
       "      <td>0.358</td>\n",
       "      <td>0.376</td>\n",
       "      <td>8734.365234</td>\n",
       "      <td>0</td>\n",
       "    </tr>\n",
       "    <tr>\n",
       "      <th>3</th>\n",
       "      <td>2021-10-01</td>\n",
       "      <td>0.384</td>\n",
       "      <td>0.500</td>\n",
       "      <td>0.324</td>\n",
       "      <td>0.324</td>\n",
       "      <td>7526.421387</td>\n",
       "      <td>5785</td>\n",
       "    </tr>\n",
       "    <tr>\n",
       "      <th>4</th>\n",
       "      <td>2021-11-01</td>\n",
       "      <td>0.330</td>\n",
       "      <td>0.500</td>\n",
       "      <td>0.322</td>\n",
       "      <td>0.332</td>\n",
       "      <td>7712.258789</td>\n",
       "      <td>1000</td>\n",
       "    </tr>\n",
       "    <tr>\n",
       "      <th>5</th>\n",
       "      <td>2021-12-01</td>\n",
       "      <td>0.330</td>\n",
       "      <td>0.400</td>\n",
       "      <td>0.324</td>\n",
       "      <td>0.330</td>\n",
       "      <td>-104.431915</td>\n",
       "      <td>0</td>\n",
       "    </tr>\n",
       "    <tr>\n",
       "      <th>6</th>\n",
       "      <td>2022-01-01</td>\n",
       "      <td>0.334</td>\n",
       "      <td>0.600</td>\n",
       "      <td>0.334</td>\n",
       "      <td>0.600</td>\n",
       "      <td>-189.876205</td>\n",
       "      <td>0</td>\n",
       "    </tr>\n",
       "    <tr>\n",
       "      <th>7</th>\n",
       "      <td>2022-02-01</td>\n",
       "      <td>0.450</td>\n",
       "      <td>0.615</td>\n",
       "      <td>0.360</td>\n",
       "      <td>0.378</td>\n",
       "      <td>-119.622002</td>\n",
       "      <td>0</td>\n",
       "    </tr>\n",
       "    <tr>\n",
       "      <th>8</th>\n",
       "      <td>2022-03-01</td>\n",
       "      <td>0.378</td>\n",
       "      <td>0.625</td>\n",
       "      <td>0.370</td>\n",
       "      <td>0.374</td>\n",
       "      <td>-118.356163</td>\n",
       "      <td>0</td>\n",
       "    </tr>\n",
       "    <tr>\n",
       "      <th>9</th>\n",
       "      <td>2022-04-01</td>\n",
       "      <td>0.376</td>\n",
       "      <td>0.615</td>\n",
       "      <td>0.376</td>\n",
       "      <td>0.410</td>\n",
       "      <td>0.410000</td>\n",
       "      <td>500</td>\n",
       "    </tr>\n",
       "    <tr>\n",
       "      <th>10</th>\n",
       "      <td>2022-05-01</td>\n",
       "      <td>0.394</td>\n",
       "      <td>0.454</td>\n",
       "      <td>0.350</td>\n",
       "      <td>0.366</td>\n",
       "      <td>0.366000</td>\n",
       "      <td>0</td>\n",
       "    </tr>\n",
       "    <tr>\n",
       "      <th>11</th>\n",
       "      <td>2022-06-01</td>\n",
       "      <td>0.374</td>\n",
       "      <td>0.620</td>\n",
       "      <td>0.350</td>\n",
       "      <td>0.350</td>\n",
       "      <td>0.350000</td>\n",
       "      <td>1200</td>\n",
       "    </tr>\n",
       "    <tr>\n",
       "      <th>12</th>\n",
       "      <td>2022-06-28</td>\n",
       "      <td>0.344</td>\n",
       "      <td>0.344</td>\n",
       "      <td>0.344</td>\n",
       "      <td>0.344</td>\n",
       "      <td>0.344000</td>\n",
       "      <td>0</td>\n",
       "    </tr>\n",
       "  </tbody>\n",
       "</table>\n",
       "</div>"
      ],
      "text/plain": [
       "          Date   Open   High    Low  Close    Adj Close  Volume\n",
       "0   2021-07-01  0.324  0.380  0.322  0.326  7572.880859   18700\n",
       "1   2021-08-01  0.322  0.388  0.322  0.362  8409.149414       0\n",
       "2   2021-09-01  0.364  0.376  0.358  0.376  8734.365234       0\n",
       "3   2021-10-01  0.384  0.500  0.324  0.324  7526.421387    5785\n",
       "4   2021-11-01  0.330  0.500  0.322  0.332  7712.258789    1000\n",
       "5   2021-12-01  0.330  0.400  0.324  0.330  -104.431915       0\n",
       "6   2022-01-01  0.334  0.600  0.334  0.600  -189.876205       0\n",
       "7   2022-02-01  0.450  0.615  0.360  0.378  -119.622002       0\n",
       "8   2022-03-01  0.378  0.625  0.370  0.374  -118.356163       0\n",
       "9   2022-04-01  0.376  0.615  0.376  0.410     0.410000     500\n",
       "10  2022-05-01  0.394  0.454  0.350  0.366     0.366000       0\n",
       "11  2022-06-01  0.374  0.620  0.350  0.350     0.350000    1200\n",
       "12  2022-06-28  0.344  0.344  0.344  0.344     0.344000       0"
      ]
     },
     "metadata": {},
     "output_type": "display_data"
    }
   ],
   "source": [
    "display(BCA)"
   ]
  },
  {
   "cell_type": "code",
   "execution_count": 5,
   "id": "58a3cb19",
   "metadata": {
    "execution": {
     "iopub.execute_input": "2022-07-09T11:04:16.379474Z",
     "iopub.status.busy": "2022-07-09T11:04:16.378391Z",
     "iopub.status.idle": "2022-07-09T11:04:16.384645Z",
     "shell.execute_reply": "2022-07-09T11:04:16.383485Z"
    },
    "papermill": {
     "duration": 0.015824,
     "end_time": "2022-07-09T11:04:16.386592",
     "exception": false,
     "start_time": "2022-07-09T11:04:16.370768",
     "status": "completed"
    },
    "tags": []
   },
   "outputs": [
    {
     "name": "stdout",
     "output_type": "stream",
     "text": [
      "(13, 7)\n"
     ]
    }
   ],
   "source": [
    "print(BCA.shape)"
   ]
  },
  {
   "cell_type": "code",
   "execution_count": 6,
   "id": "3bce4738",
   "metadata": {
    "execution": {
     "iopub.execute_input": "2022-07-09T11:04:16.401004Z",
     "iopub.status.busy": "2022-07-09T11:04:16.399891Z",
     "iopub.status.idle": "2022-07-09T11:04:16.412232Z",
     "shell.execute_reply": "2022-07-09T11:04:16.411019Z"
    },
    "papermill": {
     "duration": 0.021468,
     "end_time": "2022-07-09T11:04:16.414247",
     "exception": false,
     "start_time": "2022-07-09T11:04:16.392779",
     "status": "completed"
    },
    "tags": []
   },
   "outputs": [
    {
     "name": "stdout",
     "output_type": "stream",
     "text": [
      "<class 'pandas.core.frame.DataFrame'>\n",
      "RangeIndex: 13 entries, 0 to 12\n",
      "Data columns (total 7 columns):\n",
      " #   Column     Non-Null Count  Dtype  \n",
      "---  ------     --------------  -----  \n",
      " 0   Date       13 non-null     object \n",
      " 1   Open       13 non-null     float64\n",
      " 2   High       13 non-null     float64\n",
      " 3   Low        13 non-null     float64\n",
      " 4   Close      13 non-null     float64\n",
      " 5   Adj Close  13 non-null     float64\n",
      " 6   Volume     13 non-null     int64  \n",
      "dtypes: float64(5), int64(1), object(1)\n",
      "memory usage: 856.0+ bytes\n",
      "None\n"
     ]
    }
   ],
   "source": [
    "print(BCA.info()) "
   ]
  },
  {
   "cell_type": "markdown",
   "id": "0e1332d4",
   "metadata": {
    "papermill": {
     "duration": 0.005697,
     "end_time": "2022-07-09T11:04:16.425831",
     "exception": false,
     "start_time": "2022-07-09T11:04:16.420134",
     "status": "completed"
    },
    "tags": []
   },
   "source": [
    "# MYBNK DATA LOAD"
   ]
  },
  {
   "cell_type": "code",
   "execution_count": 7,
   "id": "b49f4c5b",
   "metadata": {
    "execution": {
     "iopub.execute_input": "2022-07-09T11:04:16.440562Z",
     "iopub.status.busy": "2022-07-09T11:04:16.439850Z",
     "iopub.status.idle": "2022-07-09T11:04:16.458608Z",
     "shell.execute_reply": "2022-07-09T11:04:16.456925Z"
    },
    "papermill": {
     "duration": 0.029245,
     "end_time": "2022-07-09T11:04:16.460977",
     "exception": false,
     "start_time": "2022-07-09T11:04:16.431732",
     "status": "completed"
    },
    "tags": []
   },
   "outputs": [
    {
     "name": "stdout",
     "output_type": "stream",
     "text": [
      "<class 'pandas.core.frame.DataFrame'>\n",
      "RangeIndex: 13 entries, 0 to 12\n",
      "Data columns (total 7 columns):\n",
      " #   Column     Non-Null Count  Dtype  \n",
      "---  ------     --------------  -----  \n",
      " 0   Date       13 non-null     object \n",
      " 1   Open       13 non-null     float64\n",
      " 2   High       13 non-null     float64\n",
      " 3   Low        13 non-null     float64\n",
      " 4   Close      13 non-null     float64\n",
      " 5   Adj Close  13 non-null     float64\n",
      " 6   Volume     13 non-null     int64  \n",
      "dtypes: float64(5), int64(1), object(1)\n",
      "memory usage: 856.0+ bytes\n"
     ]
    }
   ],
   "source": [
    "MYBNK = pd.read_csv('../input/databank/MYBNK.csv')\n",
    "MYBNK.info()"
   ]
  },
  {
   "cell_type": "code",
   "execution_count": 8,
   "id": "89f4e8fd",
   "metadata": {
    "execution": {
     "iopub.execute_input": "2022-07-09T11:04:16.475235Z",
     "iopub.status.busy": "2022-07-09T11:04:16.474598Z",
     "iopub.status.idle": "2022-07-09T11:04:16.491147Z",
     "shell.execute_reply": "2022-07-09T11:04:16.490203Z"
    },
    "papermill": {
     "duration": 0.026468,
     "end_time": "2022-07-09T11:04:16.493565",
     "exception": false,
     "start_time": "2022-07-09T11:04:16.467097",
     "status": "completed"
    },
    "tags": []
   },
   "outputs": [
    {
     "data": {
      "text/html": [
       "<div>\n",
       "<style scoped>\n",
       "    .dataframe tbody tr th:only-of-type {\n",
       "        vertical-align: middle;\n",
       "    }\n",
       "\n",
       "    .dataframe tbody tr th {\n",
       "        vertical-align: top;\n",
       "    }\n",
       "\n",
       "    .dataframe thead th {\n",
       "        text-align: right;\n",
       "    }\n",
       "</style>\n",
       "<table border=\"1\" class=\"dataframe\">\n",
       "  <thead>\n",
       "    <tr style=\"text-align: right;\">\n",
       "      <th></th>\n",
       "      <th>Date</th>\n",
       "      <th>Open</th>\n",
       "      <th>High</th>\n",
       "      <th>Low</th>\n",
       "      <th>Close</th>\n",
       "      <th>Adj Close</th>\n",
       "      <th>Volume</th>\n",
       "    </tr>\n",
       "  </thead>\n",
       "  <tbody>\n",
       "    <tr>\n",
       "      <th>0</th>\n",
       "      <td>2021-07-01</td>\n",
       "      <td>0.0180</td>\n",
       "      <td>0.0189</td>\n",
       "      <td>0.0180</td>\n",
       "      <td>0.0189</td>\n",
       "      <td>-6.817790</td>\n",
       "      <td>38350</td>\n",
       "    </tr>\n",
       "    <tr>\n",
       "      <th>1</th>\n",
       "      <td>2021-08-01</td>\n",
       "      <td>0.0185</td>\n",
       "      <td>0.0195</td>\n",
       "      <td>0.0185</td>\n",
       "      <td>0.0192</td>\n",
       "      <td>-6.926009</td>\n",
       "      <td>88148</td>\n",
       "    </tr>\n",
       "    <tr>\n",
       "      <th>2</th>\n",
       "      <td>2021-09-01</td>\n",
       "      <td>0.0190</td>\n",
       "      <td>0.0190</td>\n",
       "      <td>0.0168</td>\n",
       "      <td>0.0183</td>\n",
       "      <td>-6.601352</td>\n",
       "      <td>646878</td>\n",
       "    </tr>\n",
       "    <tr>\n",
       "      <th>3</th>\n",
       "      <td>2021-10-01</td>\n",
       "      <td>0.0183</td>\n",
       "      <td>0.0190</td>\n",
       "      <td>0.0183</td>\n",
       "      <td>0.0188</td>\n",
       "      <td>-6.781717</td>\n",
       "      <td>294421</td>\n",
       "    </tr>\n",
       "    <tr>\n",
       "      <th>4</th>\n",
       "      <td>2021-11-01</td>\n",
       "      <td>0.0182</td>\n",
       "      <td>0.0219</td>\n",
       "      <td>0.0182</td>\n",
       "      <td>0.0200</td>\n",
       "      <td>-7.214592</td>\n",
       "      <td>1145392</td>\n",
       "    </tr>\n",
       "    <tr>\n",
       "      <th>5</th>\n",
       "      <td>2021-12-01</td>\n",
       "      <td>0.0191</td>\n",
       "      <td>0.0243</td>\n",
       "      <td>0.0185</td>\n",
       "      <td>0.0193</td>\n",
       "      <td>-6.962082</td>\n",
       "      <td>1438364</td>\n",
       "    </tr>\n",
       "    <tr>\n",
       "      <th>6</th>\n",
       "      <td>2022-01-01</td>\n",
       "      <td>0.0194</td>\n",
       "      <td>0.0198</td>\n",
       "      <td>0.0172</td>\n",
       "      <td>0.0179</td>\n",
       "      <td>-6.457060</td>\n",
       "      <td>185980</td>\n",
       "    </tr>\n",
       "    <tr>\n",
       "      <th>7</th>\n",
       "      <td>2022-02-01</td>\n",
       "      <td>0.0178</td>\n",
       "      <td>0.0214</td>\n",
       "      <td>0.0170</td>\n",
       "      <td>0.0174</td>\n",
       "      <td>-6.276695</td>\n",
       "      <td>129527</td>\n",
       "    </tr>\n",
       "    <tr>\n",
       "      <th>8</th>\n",
       "      <td>2022-03-01</td>\n",
       "      <td>0.0173</td>\n",
       "      <td>0.0184</td>\n",
       "      <td>0.0165</td>\n",
       "      <td>0.0179</td>\n",
       "      <td>-6.457060</td>\n",
       "      <td>416464</td>\n",
       "    </tr>\n",
       "    <tr>\n",
       "      <th>9</th>\n",
       "      <td>2022-04-01</td>\n",
       "      <td>0.0179</td>\n",
       "      <td>0.0211</td>\n",
       "      <td>0.0157</td>\n",
       "      <td>0.0171</td>\n",
       "      <td>-6.168477</td>\n",
       "      <td>577180</td>\n",
       "    </tr>\n",
       "    <tr>\n",
       "      <th>10</th>\n",
       "      <td>2022-05-01</td>\n",
       "      <td>0.0167</td>\n",
       "      <td>0.0172</td>\n",
       "      <td>0.0165</td>\n",
       "      <td>0.0166</td>\n",
       "      <td>0.016600</td>\n",
       "      <td>209318</td>\n",
       "    </tr>\n",
       "    <tr>\n",
       "      <th>11</th>\n",
       "      <td>2022-06-01</td>\n",
       "      <td>0.0165</td>\n",
       "      <td>0.0167</td>\n",
       "      <td>0.0157</td>\n",
       "      <td>0.0164</td>\n",
       "      <td>0.016400</td>\n",
       "      <td>167414</td>\n",
       "    </tr>\n",
       "    <tr>\n",
       "      <th>12</th>\n",
       "      <td>2022-06-28</td>\n",
       "      <td>0.0163</td>\n",
       "      <td>0.0163</td>\n",
       "      <td>0.0163</td>\n",
       "      <td>0.0163</td>\n",
       "      <td>0.016300</td>\n",
       "      <td>0</td>\n",
       "    </tr>\n",
       "  </tbody>\n",
       "</table>\n",
       "</div>"
      ],
      "text/plain": [
       "          Date    Open    High     Low   Close  Adj Close   Volume\n",
       "0   2021-07-01  0.0180  0.0189  0.0180  0.0189  -6.817790    38350\n",
       "1   2021-08-01  0.0185  0.0195  0.0185  0.0192  -6.926009    88148\n",
       "2   2021-09-01  0.0190  0.0190  0.0168  0.0183  -6.601352   646878\n",
       "3   2021-10-01  0.0183  0.0190  0.0183  0.0188  -6.781717   294421\n",
       "4   2021-11-01  0.0182  0.0219  0.0182  0.0200  -7.214592  1145392\n",
       "5   2021-12-01  0.0191  0.0243  0.0185  0.0193  -6.962082  1438364\n",
       "6   2022-01-01  0.0194  0.0198  0.0172  0.0179  -6.457060   185980\n",
       "7   2022-02-01  0.0178  0.0214  0.0170  0.0174  -6.276695   129527\n",
       "8   2022-03-01  0.0173  0.0184  0.0165  0.0179  -6.457060   416464\n",
       "9   2022-04-01  0.0179  0.0211  0.0157  0.0171  -6.168477   577180\n",
       "10  2022-05-01  0.0167  0.0172  0.0165  0.0166   0.016600   209318\n",
       "11  2022-06-01  0.0165  0.0167  0.0157  0.0164   0.016400   167414\n",
       "12  2022-06-28  0.0163  0.0163  0.0163  0.0163   0.016300        0"
      ]
     },
     "metadata": {},
     "output_type": "display_data"
    }
   ],
   "source": [
    "display(MYBNK)"
   ]
  },
  {
   "cell_type": "code",
   "execution_count": 9,
   "id": "55b9c016",
   "metadata": {
    "execution": {
     "iopub.execute_input": "2022-07-09T11:04:16.508292Z",
     "iopub.status.busy": "2022-07-09T11:04:16.507437Z",
     "iopub.status.idle": "2022-07-09T11:04:16.512833Z",
     "shell.execute_reply": "2022-07-09T11:04:16.511516Z"
    },
    "papermill": {
     "duration": 0.015443,
     "end_time": "2022-07-09T11:04:16.515381",
     "exception": false,
     "start_time": "2022-07-09T11:04:16.499938",
     "status": "completed"
    },
    "tags": []
   },
   "outputs": [
    {
     "name": "stdout",
     "output_type": "stream",
     "text": [
      "(13, 7)\n"
     ]
    }
   ],
   "source": [
    "print(MYBNK.shape)"
   ]
  },
  {
   "cell_type": "code",
   "execution_count": 10,
   "id": "75703698",
   "metadata": {
    "execution": {
     "iopub.execute_input": "2022-07-09T11:04:16.530140Z",
     "iopub.status.busy": "2022-07-09T11:04:16.529252Z",
     "iopub.status.idle": "2022-07-09T11:04:16.541410Z",
     "shell.execute_reply": "2022-07-09T11:04:16.539875Z"
    },
    "papermill": {
     "duration": 0.021548,
     "end_time": "2022-07-09T11:04:16.543394",
     "exception": false,
     "start_time": "2022-07-09T11:04:16.521846",
     "status": "completed"
    },
    "tags": []
   },
   "outputs": [
    {
     "name": "stdout",
     "output_type": "stream",
     "text": [
      "<class 'pandas.core.frame.DataFrame'>\n",
      "RangeIndex: 13 entries, 0 to 12\n",
      "Data columns (total 7 columns):\n",
      " #   Column     Non-Null Count  Dtype  \n",
      "---  ------     --------------  -----  \n",
      " 0   Date       13 non-null     object \n",
      " 1   Open       13 non-null     float64\n",
      " 2   High       13 non-null     float64\n",
      " 3   Low        13 non-null     float64\n",
      " 4   Close      13 non-null     float64\n",
      " 5   Adj Close  13 non-null     float64\n",
      " 6   Volume     13 non-null     int64  \n",
      "dtypes: float64(5), int64(1), object(1)\n",
      "memory usage: 856.0+ bytes\n",
      "None\n"
     ]
    }
   ],
   "source": [
    "print(MYBNK.info())"
   ]
  },
  {
   "cell_type": "markdown",
   "id": "8f1130ad",
   "metadata": {
    "papermill": {
     "duration": 0.006062,
     "end_time": "2022-07-09T11:04:16.555818",
     "exception": false,
     "start_time": "2022-07-09T11:04:16.549756",
     "status": "completed"
    },
    "tags": []
   },
   "source": [
    "# Data Preparation"
   ]
  },
  {
   "cell_type": "code",
   "execution_count": 11,
   "id": "306786de",
   "metadata": {
    "execution": {
     "iopub.execute_input": "2022-07-09T11:04:16.571166Z",
     "iopub.status.busy": "2022-07-09T11:04:16.570472Z",
     "iopub.status.idle": "2022-07-09T11:04:16.582552Z",
     "shell.execute_reply": "2022-07-09T11:04:16.581657Z"
    },
    "papermill": {
     "duration": 0.021889,
     "end_time": "2022-07-09T11:04:16.584637",
     "exception": false,
     "start_time": "2022-07-09T11:04:16.562748",
     "status": "completed"
    },
    "tags": []
   },
   "outputs": [
    {
     "data": {
      "text/html": [
       "<div>\n",
       "<style scoped>\n",
       "    .dataframe tbody tr th:only-of-type {\n",
       "        vertical-align: middle;\n",
       "    }\n",
       "\n",
       "    .dataframe tbody tr th {\n",
       "        vertical-align: top;\n",
       "    }\n",
       "\n",
       "    .dataframe thead th {\n",
       "        text-align: right;\n",
       "    }\n",
       "</style>\n",
       "<table border=\"1\" class=\"dataframe\">\n",
       "  <thead>\n",
       "    <tr style=\"text-align: right;\">\n",
       "      <th></th>\n",
       "      <th>BCA</th>\n",
       "    </tr>\n",
       "  </thead>\n",
       "  <tbody>\n",
       "    <tr>\n",
       "      <th>0</th>\n",
       "      <td>0.326</td>\n",
       "    </tr>\n",
       "    <tr>\n",
       "      <th>1</th>\n",
       "      <td>0.362</td>\n",
       "    </tr>\n",
       "    <tr>\n",
       "      <th>2</th>\n",
       "      <td>0.376</td>\n",
       "    </tr>\n",
       "    <tr>\n",
       "      <th>3</th>\n",
       "      <td>0.324</td>\n",
       "    </tr>\n",
       "    <tr>\n",
       "      <th>4</th>\n",
       "      <td>0.332</td>\n",
       "    </tr>\n",
       "    <tr>\n",
       "      <th>5</th>\n",
       "      <td>0.330</td>\n",
       "    </tr>\n",
       "    <tr>\n",
       "      <th>6</th>\n",
       "      <td>0.600</td>\n",
       "    </tr>\n",
       "    <tr>\n",
       "      <th>7</th>\n",
       "      <td>0.378</td>\n",
       "    </tr>\n",
       "    <tr>\n",
       "      <th>8</th>\n",
       "      <td>0.374</td>\n",
       "    </tr>\n",
       "    <tr>\n",
       "      <th>9</th>\n",
       "      <td>0.410</td>\n",
       "    </tr>\n",
       "    <tr>\n",
       "      <th>10</th>\n",
       "      <td>0.366</td>\n",
       "    </tr>\n",
       "    <tr>\n",
       "      <th>11</th>\n",
       "      <td>0.350</td>\n",
       "    </tr>\n",
       "    <tr>\n",
       "      <th>12</th>\n",
       "      <td>0.344</td>\n",
       "    </tr>\n",
       "  </tbody>\n",
       "</table>\n",
       "</div>"
      ],
      "text/plain": [
       "      BCA\n",
       "0   0.326\n",
       "1   0.362\n",
       "2   0.376\n",
       "3   0.324\n",
       "4   0.332\n",
       "5   0.330\n",
       "6   0.600\n",
       "7   0.378\n",
       "8   0.374\n",
       "9   0.410\n",
       "10  0.366\n",
       "11  0.350\n",
       "12  0.344"
      ]
     },
     "metadata": {},
     "output_type": "display_data"
    }
   ],
   "source": [
    "BCA_closing=pd.read_csv('../input/databank/BCA.csv' , usecols =['Close'])\n",
    "BCA = BCA_closing.rename(columns={'Close': 'BCA'})\n",
    "display(BCA)"
   ]
  },
  {
   "cell_type": "code",
   "execution_count": 12,
   "id": "12d344f0",
   "metadata": {
    "execution": {
     "iopub.execute_input": "2022-07-09T11:04:16.599787Z",
     "iopub.status.busy": "2022-07-09T11:04:16.599062Z",
     "iopub.status.idle": "2022-07-09T11:04:16.610970Z",
     "shell.execute_reply": "2022-07-09T11:04:16.610217Z"
    },
    "papermill": {
     "duration": 0.021629,
     "end_time": "2022-07-09T11:04:16.612903",
     "exception": false,
     "start_time": "2022-07-09T11:04:16.591274",
     "status": "completed"
    },
    "tags": []
   },
   "outputs": [
    {
     "data": {
      "text/html": [
       "<div>\n",
       "<style scoped>\n",
       "    .dataframe tbody tr th:only-of-type {\n",
       "        vertical-align: middle;\n",
       "    }\n",
       "\n",
       "    .dataframe tbody tr th {\n",
       "        vertical-align: top;\n",
       "    }\n",
       "\n",
       "    .dataframe thead th {\n",
       "        text-align: right;\n",
       "    }\n",
       "</style>\n",
       "<table border=\"1\" class=\"dataframe\">\n",
       "  <thead>\n",
       "    <tr style=\"text-align: right;\">\n",
       "      <th></th>\n",
       "      <th>MYBNK</th>\n",
       "    </tr>\n",
       "  </thead>\n",
       "  <tbody>\n",
       "    <tr>\n",
       "      <th>0</th>\n",
       "      <td>0.0189</td>\n",
       "    </tr>\n",
       "    <tr>\n",
       "      <th>1</th>\n",
       "      <td>0.0192</td>\n",
       "    </tr>\n",
       "    <tr>\n",
       "      <th>2</th>\n",
       "      <td>0.0183</td>\n",
       "    </tr>\n",
       "    <tr>\n",
       "      <th>3</th>\n",
       "      <td>0.0188</td>\n",
       "    </tr>\n",
       "    <tr>\n",
       "      <th>4</th>\n",
       "      <td>0.0200</td>\n",
       "    </tr>\n",
       "    <tr>\n",
       "      <th>5</th>\n",
       "      <td>0.0193</td>\n",
       "    </tr>\n",
       "    <tr>\n",
       "      <th>6</th>\n",
       "      <td>0.0179</td>\n",
       "    </tr>\n",
       "    <tr>\n",
       "      <th>7</th>\n",
       "      <td>0.0174</td>\n",
       "    </tr>\n",
       "    <tr>\n",
       "      <th>8</th>\n",
       "      <td>0.0179</td>\n",
       "    </tr>\n",
       "    <tr>\n",
       "      <th>9</th>\n",
       "      <td>0.0171</td>\n",
       "    </tr>\n",
       "    <tr>\n",
       "      <th>10</th>\n",
       "      <td>0.0166</td>\n",
       "    </tr>\n",
       "    <tr>\n",
       "      <th>11</th>\n",
       "      <td>0.0164</td>\n",
       "    </tr>\n",
       "    <tr>\n",
       "      <th>12</th>\n",
       "      <td>0.0163</td>\n",
       "    </tr>\n",
       "  </tbody>\n",
       "</table>\n",
       "</div>"
      ],
      "text/plain": [
       "     MYBNK\n",
       "0   0.0189\n",
       "1   0.0192\n",
       "2   0.0183\n",
       "3   0.0188\n",
       "4   0.0200\n",
       "5   0.0193\n",
       "6   0.0179\n",
       "7   0.0174\n",
       "8   0.0179\n",
       "9   0.0171\n",
       "10  0.0166\n",
       "11  0.0164\n",
       "12  0.0163"
      ]
     },
     "metadata": {},
     "output_type": "display_data"
    }
   ],
   "source": [
    "MYBNK_closing=pd.read_csv('../input/databank/MYBNK.csv' , usecols =['Close'])\n",
    "MYBNK = MYBNK_closing.rename(columns={'Close': 'MYBNK'})\n",
    "display(MYBNK)"
   ]
  },
  {
   "cell_type": "markdown",
   "id": "595642f0",
   "metadata": {
    "papermill": {
     "duration": 0.006696,
     "end_time": "2022-07-09T11:04:16.626713",
     "exception": false,
     "start_time": "2022-07-09T11:04:16.620017",
     "status": "completed"
    },
    "tags": []
   },
   "source": [
    "# MERGING DATA"
   ]
  },
  {
   "cell_type": "code",
   "execution_count": 13,
   "id": "b71a7d3e",
   "metadata": {
    "execution": {
     "iopub.execute_input": "2022-07-09T11:04:16.642677Z",
     "iopub.status.busy": "2022-07-09T11:04:16.642020Z",
     "iopub.status.idle": "2022-07-09T11:04:16.659835Z",
     "shell.execute_reply": "2022-07-09T11:04:16.658610Z"
    },
    "papermill": {
     "duration": 0.028142,
     "end_time": "2022-07-09T11:04:16.661958",
     "exception": false,
     "start_time": "2022-07-09T11:04:16.633816",
     "status": "completed"
    },
    "tags": []
   },
   "outputs": [
    {
     "data": {
      "text/html": [
       "<div>\n",
       "<style scoped>\n",
       "    .dataframe tbody tr th:only-of-type {\n",
       "        vertical-align: middle;\n",
       "    }\n",
       "\n",
       "    .dataframe tbody tr th {\n",
       "        vertical-align: top;\n",
       "    }\n",
       "\n",
       "    .dataframe thead th {\n",
       "        text-align: right;\n",
       "    }\n",
       "</style>\n",
       "<table border=\"1\" class=\"dataframe\">\n",
       "  <thead>\n",
       "    <tr style=\"text-align: right;\">\n",
       "      <th></th>\n",
       "      <th>MYBNK</th>\n",
       "      <th>BCA</th>\n",
       "    </tr>\n",
       "  </thead>\n",
       "  <tbody>\n",
       "    <tr>\n",
       "      <th>0</th>\n",
       "      <td>0.0189</td>\n",
       "      <td>0.326</td>\n",
       "    </tr>\n",
       "    <tr>\n",
       "      <th>1</th>\n",
       "      <td>0.0192</td>\n",
       "      <td>0.362</td>\n",
       "    </tr>\n",
       "    <tr>\n",
       "      <th>2</th>\n",
       "      <td>0.0183</td>\n",
       "      <td>0.376</td>\n",
       "    </tr>\n",
       "    <tr>\n",
       "      <th>3</th>\n",
       "      <td>0.0188</td>\n",
       "      <td>0.324</td>\n",
       "    </tr>\n",
       "    <tr>\n",
       "      <th>4</th>\n",
       "      <td>0.0200</td>\n",
       "      <td>0.332</td>\n",
       "    </tr>\n",
       "    <tr>\n",
       "      <th>5</th>\n",
       "      <td>0.0193</td>\n",
       "      <td>0.330</td>\n",
       "    </tr>\n",
       "    <tr>\n",
       "      <th>6</th>\n",
       "      <td>0.0179</td>\n",
       "      <td>0.600</td>\n",
       "    </tr>\n",
       "    <tr>\n",
       "      <th>7</th>\n",
       "      <td>0.0174</td>\n",
       "      <td>0.378</td>\n",
       "    </tr>\n",
       "    <tr>\n",
       "      <th>8</th>\n",
       "      <td>0.0179</td>\n",
       "      <td>0.374</td>\n",
       "    </tr>\n",
       "    <tr>\n",
       "      <th>9</th>\n",
       "      <td>0.0171</td>\n",
       "      <td>0.410</td>\n",
       "    </tr>\n",
       "    <tr>\n",
       "      <th>10</th>\n",
       "      <td>0.0166</td>\n",
       "      <td>0.366</td>\n",
       "    </tr>\n",
       "    <tr>\n",
       "      <th>11</th>\n",
       "      <td>0.0164</td>\n",
       "      <td>0.350</td>\n",
       "    </tr>\n",
       "    <tr>\n",
       "      <th>12</th>\n",
       "      <td>0.0163</td>\n",
       "      <td>0.344</td>\n",
       "    </tr>\n",
       "  </tbody>\n",
       "</table>\n",
       "</div>"
      ],
      "text/plain": [
       "     MYBNK    BCA\n",
       "0   0.0189  0.326\n",
       "1   0.0192  0.362\n",
       "2   0.0183  0.376\n",
       "3   0.0188  0.324\n",
       "4   0.0200  0.332\n",
       "5   0.0193  0.330\n",
       "6   0.0179  0.600\n",
       "7   0.0174  0.378\n",
       "8   0.0179  0.374\n",
       "9   0.0171  0.410\n",
       "10  0.0166  0.366\n",
       "11  0.0164  0.350\n",
       "12  0.0163  0.344"
      ]
     },
     "metadata": {},
     "output_type": "display_data"
    }
   ],
   "source": [
    "data = MYBNK.join(BCA)\n",
    "display(data)"
   ]
  },
  {
   "cell_type": "code",
   "execution_count": 14,
   "id": "a8630a23",
   "metadata": {
    "execution": {
     "iopub.execute_input": "2022-07-09T11:04:16.677745Z",
     "iopub.status.busy": "2022-07-09T11:04:16.677095Z",
     "iopub.status.idle": "2022-07-09T11:04:16.682645Z",
     "shell.execute_reply": "2022-07-09T11:04:16.681485Z"
    },
    "papermill": {
     "duration": 0.016504,
     "end_time": "2022-07-09T11:04:16.685546",
     "exception": false,
     "start_time": "2022-07-09T11:04:16.669042",
     "status": "completed"
    },
    "tags": []
   },
   "outputs": [
    {
     "name": "stdout",
     "output_type": "stream",
     "text": [
      "(13, 2)\n"
     ]
    }
   ],
   "source": [
    "print(data.shape)"
   ]
  },
  {
   "cell_type": "code",
   "execution_count": 15,
   "id": "60e03a61",
   "metadata": {
    "execution": {
     "iopub.execute_input": "2022-07-09T11:04:16.701730Z",
     "iopub.status.busy": "2022-07-09T11:04:16.701087Z",
     "iopub.status.idle": "2022-07-09T11:04:16.791332Z",
     "shell.execute_reply": "2022-07-09T11:04:16.789613Z"
    },
    "papermill": {
     "duration": 0.100249,
     "end_time": "2022-07-09T11:04:16.792981",
     "exception": true,
     "start_time": "2022-07-09T11:04:16.692732",
     "status": "failed"
    },
    "tags": []
   },
   "outputs": [
    {
     "ename": "NameError",
     "evalue": "name 'X' is not defined",
     "output_type": "error",
     "traceback": [
      "\u001b[0;31m---------------------------------------------------------------------------\u001b[0m",
      "\u001b[0;31mNameError\u001b[0m                                 Traceback (most recent call last)",
      "\u001b[0;32m/tmp/ipykernel_20/4044868036.py\u001b[0m in \u001b[0;36m<module>\u001b[0;34m\u001b[0m\n\u001b[1;32m      1\u001b[0m \u001b[0;31m#Mean X and Y\u001b[0m\u001b[0;34m\u001b[0m\u001b[0;34m\u001b[0m\u001b[0;34m\u001b[0m\u001b[0m\n\u001b[0;32m----> 2\u001b[0;31m \u001b[0mmean_x\u001b[0m \u001b[0;34m=\u001b[0m \u001b[0mnp\u001b[0m\u001b[0;34m.\u001b[0m\u001b[0mmean\u001b[0m\u001b[0;34m(\u001b[0m\u001b[0mX\u001b[0m\u001b[0;34m)\u001b[0m\u001b[0;34m\u001b[0m\u001b[0;34m\u001b[0m\u001b[0m\n\u001b[0m\u001b[1;32m      3\u001b[0m \u001b[0mmean_y\u001b[0m \u001b[0;34m=\u001b[0m \u001b[0mnp\u001b[0m\u001b[0;34m.\u001b[0m\u001b[0mmean\u001b[0m\u001b[0;34m(\u001b[0m\u001b[0mY\u001b[0m\u001b[0;34m)\u001b[0m\u001b[0;34m\u001b[0m\u001b[0;34m\u001b[0m\u001b[0m\n\u001b[1;32m      4\u001b[0m \u001b[0;34m\u001b[0m\u001b[0m\n\u001b[1;32m      5\u001b[0m \u001b[0;31m#Total number of values\u001b[0m\u001b[0;34m\u001b[0m\u001b[0;34m\u001b[0m\u001b[0;34m\u001b[0m\u001b[0m\n",
      "\u001b[0;31mNameError\u001b[0m: name 'X' is not defined"
     ]
    }
   ],
   "source": [
    "#Mean X and Y\n",
    "mean_x = np.mean(X)\n",
    "mean_y = np.mean(Y)\n",
    "\n",
    "#Total number of values\n",
    "m = len(X)\n",
    "\n",
    "#using the formula to calculate b1 and b2\n",
    "numer = 0\n",
    "denom = 0\n",
    "for i in range(m):\n",
    "    numer += (X[i] - mean_x) * (Y[i]- mean_y)\n",
    "    denom += (X[i] - mean_x) ** 2\n",
    "b1 = numer/denom\n",
    "b0 = mean_y - (b1 * mean_x)\n",
    "\n",
    "#Print coefficients\n",
    "print(b1,b0)"
   ]
  },
  {
   "cell_type": "code",
   "execution_count": null,
   "id": "027f9a51",
   "metadata": {
    "execution": {
     "iopub.execute_input": "2022-07-09T11:00:39.801831Z",
     "iopub.status.busy": "2022-07-09T11:00:39.801102Z",
     "iopub.status.idle": "2022-07-09T11:00:39.824242Z",
     "shell.execute_reply": "2022-07-09T11:00:39.823025Z",
     "shell.execute_reply.started": "2022-07-09T11:00:39.801789Z"
    },
    "papermill": {
     "duration": null,
     "end_time": null,
     "exception": null,
     "start_time": null,
     "status": "pending"
    },
    "tags": []
   },
   "outputs": [],
   "source": [
    "data.describe()"
   ]
  },
  {
   "cell_type": "markdown",
   "id": "a40bcdf9",
   "metadata": {
    "papermill": {
     "duration": null,
     "end_time": null,
     "exception": null,
     "start_time": null,
     "status": "pending"
    },
    "tags": []
   },
   "source": [
    "# Linear Regression"
   ]
  },
  {
   "cell_type": "code",
   "execution_count": null,
   "id": "5e7f3e7e",
   "metadata": {
    "execution": {
     "iopub.execute_input": "2022-07-09T11:00:39.827658Z",
     "iopub.status.busy": "2022-07-09T11:00:39.826318Z",
     "iopub.status.idle": "2022-07-09T11:00:39.832515Z",
     "shell.execute_reply": "2022-07-09T11:00:39.831584Z",
     "shell.execute_reply.started": "2022-07-09T11:00:39.827613Z"
    },
    "papermill": {
     "duration": null,
     "end_time": null,
     "exception": null,
     "start_time": null,
     "status": "pending"
    },
    "tags": []
   },
   "outputs": [],
   "source": [
    "X = data['BCA'].values\n",
    "Y = data['MYBNK'].values"
   ]
  },
  {
   "cell_type": "code",
   "execution_count": null,
   "id": "b128f241",
   "metadata": {
    "execution": {
     "iopub.execute_input": "2022-07-09T11:01:03.133818Z",
     "iopub.status.busy": "2022-07-09T11:01:03.133372Z",
     "iopub.status.idle": "2022-07-09T11:01:03.141875Z",
     "shell.execute_reply": "2022-07-09T11:01:03.140919Z",
     "shell.execute_reply.started": "2022-07-09T11:01:03.133783Z"
    },
    "papermill": {
     "duration": null,
     "end_time": null,
     "exception": null,
     "start_time": null,
     "status": "pending"
    },
    "tags": []
   },
   "outputs": [],
   "source": [
    "#Mean X and Y\n",
    "mean_x = np.mean(X)\n",
    "mean_y = np.mean(Y)\n",
    "\n",
    "#Total number of values\n",
    "m = len(X)\n",
    "\n",
    "#using the formula to calculate b1 and b2\n",
    "numer = 0\n",
    "denom = 0\n",
    "for i in range(m):\n",
    "    numer += (X[i] - mean_x) * (Y[i]- mean_y)\n",
    "    denom += (X[i] - mean_x) ** 2\n",
    "b1 = numer/denom\n",
    "b0 = mean_y - (b1 * mean_x)\n",
    "\n",
    "#Print coefficients\n",
    "print(b1,b0)"
   ]
  },
  {
   "cell_type": "code",
   "execution_count": null,
   "id": "7fd519e4",
   "metadata": {
    "execution": {
     "iopub.execute_input": "2022-07-09T11:01:14.521495Z",
     "iopub.status.busy": "2022-07-09T11:01:14.520602Z",
     "iopub.status.idle": "2022-07-09T11:01:14.528011Z",
     "shell.execute_reply": "2022-07-09T11:01:14.527010Z",
     "shell.execute_reply.started": "2022-07-09T11:01:14.521457Z"
    },
    "papermill": {
     "duration": null,
     "end_time": null,
     "exception": null,
     "start_time": null,
     "status": "pending"
    },
    "tags": []
   },
   "outputs": [],
   "source": [
    "%matplotlib inline\n",
    "import matplotlib.pyplot as plt\n",
    "plt.rcParams['figure.figsize'] = (20.0, 10.0)"
   ]
  },
  {
   "cell_type": "code",
   "execution_count": null,
   "id": "81e59a51",
   "metadata": {
    "execution": {
     "iopub.execute_input": "2022-07-09T11:01:40.090214Z",
     "iopub.status.busy": "2022-07-09T11:01:40.089807Z",
     "iopub.status.idle": "2022-07-09T11:01:40.411217Z",
     "shell.execute_reply": "2022-07-09T11:01:40.410008Z",
     "shell.execute_reply.started": "2022-07-09T11:01:40.090179Z"
    },
    "papermill": {
     "duration": null,
     "end_time": null,
     "exception": null,
     "start_time": null,
     "status": "pending"
    },
    "tags": []
   },
   "outputs": [],
   "source": [
    "#Plotting values and regression line\n",
    "max_x = np.max(X) + 100\n",
    "min_x = np.min(X) - 100\n",
    "\n",
    "#Calculating line values x and y\n",
    "x = np.linspace(min_x, max_x, 1000)\n",
    "y = b0 + b1 * x\n",
    "\n",
    "#Ploting line\n",
    "plt.plot(x,y, color='#58b970', label = 'Regression Line')\n",
    "\n",
    "#PLoting Scatter Points\n",
    "plt.scatter(X,Y, c='#ef5423', label='Scatter PLot')\n",
    "\n",
    "plt.xlabel('BCA')\n",
    "plt.ylabel('MYBNK')\n",
    "plt.legend()\n",
    "plt.show()"
   ]
  },
  {
   "cell_type": "code",
   "execution_count": null,
   "id": "0297cb60",
   "metadata": {
    "execution": {
     "iopub.execute_input": "2022-07-09T11:03:20.822959Z",
     "iopub.status.busy": "2022-07-09T11:03:20.822470Z",
     "iopub.status.idle": "2022-07-09T11:03:21.100419Z",
     "shell.execute_reply": "2022-07-09T11:03:21.099511Z",
     "shell.execute_reply.started": "2022-07-09T11:03:20.822923Z"
    },
    "papermill": {
     "duration": null,
     "end_time": null,
     "exception": null,
     "start_time": null,
     "status": "pending"
    },
    "tags": []
   },
   "outputs": [],
   "source": [
    "data.plot(x='BCA', y='MYBNK', style='o')\n",
    "plt.title('BCA and MYBNK Precentage')\n",
    "plt.xlabel('BCA')\n",
    "plt.ylabel('MYBNK')\n",
    "plt.show()"
   ]
  },
  {
   "cell_type": "markdown",
   "id": "931a94ee",
   "metadata": {
    "papermill": {
     "duration": null,
     "end_time": null,
     "exception": null,
     "start_time": null,
     "status": "pending"
    },
    "tags": []
   },
   "source": [
    "# R Squared"
   ]
  },
  {
   "cell_type": "code",
   "execution_count": null,
   "id": "85db03b2",
   "metadata": {
    "execution": {
     "iopub.execute_input": "2022-07-09T11:03:44.747494Z",
     "iopub.status.busy": "2022-07-09T11:03:44.746520Z",
     "iopub.status.idle": "2022-07-09T11:03:44.756308Z",
     "shell.execute_reply": "2022-07-09T11:03:44.754922Z",
     "shell.execute_reply.started": "2022-07-09T11:03:44.747448Z"
    },
    "papermill": {
     "duration": null,
     "end_time": null,
     "exception": null,
     "start_time": null,
     "status": "pending"
    },
    "tags": []
   },
   "outputs": [],
   "source": [
    "ss_t = 0\n",
    "ss_r = 0\n",
    "for i in range(m):\n",
    "    y_pred = b0 + b1 * X[i]\n",
    "    ss_t += (Y[i] - mean_y) ** 2\n",
    "    ss_r += (Y[i] - y_pred) ** 2\n",
    "r2 = 1 - (ss_r/ss_t)\n",
    "print(r2)"
   ]
  },
  {
   "cell_type": "code",
   "execution_count": null,
   "id": "61972ff2",
   "metadata": {
    "papermill": {
     "duration": null,
     "end_time": null,
     "exception": null,
     "start_time": null,
     "status": "pending"
    },
    "tags": []
   },
   "outputs": [],
   "source": []
  }
 ],
 "metadata": {
  "kernelspec": {
   "display_name": "Python 3",
   "language": "python",
   "name": "python3"
  },
  "language_info": {
   "codemirror_mode": {
    "name": "ipython",
    "version": 3
   },
   "file_extension": ".py",
   "mimetype": "text/x-python",
   "name": "python",
   "nbconvert_exporter": "python",
   "pygments_lexer": "ipython3",
   "version": "3.7.12"
  },
  "papermill": {
   "default_parameters": {},
   "duration": 11.764151,
   "end_time": "2022-07-09T11:04:17.522800",
   "environment_variables": {},
   "exception": true,
   "input_path": "__notebook__.ipynb",
   "output_path": "__notebook__.ipynb",
   "parameters": {},
   "start_time": "2022-07-09T11:04:05.758649",
   "version": "2.3.4"
  }
 },
 "nbformat": 4,
 "nbformat_minor": 5
}
